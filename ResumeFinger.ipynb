{
 "cells": [
  {
   "cell_type": "markdown",
   "metadata": {},
   "source": [
    "# Resume Finger Simulation Experiment - F1D022108"
   ]
  },
  {
   "cell_type": "markdown",
   "metadata": {},
   "source": [
    "## Data Understanding"
   ]
  },
  {
   "cell_type": "markdown",
   "metadata": {},
   "source": [
    "Jelaskan mengenai data yang digunakan dalam project kalian, seperti jumlah data, jumlah kelas, serta bagaimana cara kalian mendapatkan data tersebut.\n",
    "> Proyek ini menggunakan lima kelas gambar berbeda sebagai data, yang di mana data tersebut adalah finger_1, finger_2, finger_3, finger_4, dan finger_5.\n",
    ">Data diambil dari folder yang berisi gambar-gambar ini. Secara spesifik, pemanggilan data folder menggunakan path dari lokasi folder tersebut (C:\\Users\\Acer\\Desktop\\Finger Simulation 2024).\n",
    ">Jumlah  gambar yang dimuat sebanyak 1432 gambar, rinciannya adalah: finger_1 (278 gambar), finger_2 (291 gambar), finger_3 (282 gambar), finger_4 (294 gambar), finger_5 (287 gambar).\n",
    ">Gambar-gambar ini  digunakan sebagai data pelatihan dan pengujian untuk membangun model klasifikasi yang dapat membedakan  kelas lima jari."
   ]
  },
  {
   "cell_type": "markdown",
   "metadata": {},
   "source": [
    "## Data Preparation"
   ]
  },
  {
   "cell_type": "markdown",
   "metadata": {},
   "source": [
    "### Image Augmentation"
   ]
  },
  {
   "cell_type": "markdown",
   "metadata": {},
   "source": [
    "Jelaskan kombinasi teknik augmentasi gambar apa saja yang kalian gunakan, serta berapa gambar yang dihasilkan dari 1 gambar asli.\n",
    "> Untuk meningkatkan jumlah data dan variasi gambar, dilakukan teknik augmentasi gambar. Teknik augmentasi yang digunakan adalah rotasi (30 derajat dan -30 derajat), flip horizontal, dan flip vertikal. Dengan kombinasi ketiga teknik augmentasi ini, setiap gambar asli akan menghasilkan 6 gambar baru yang berbeda. Jadi, jika semula terdapat N gambar asli, setelah augmentasi akan menjadi 7N gambar. Augmentasi ini penting dilakukan untuk menghindari overfitting pada model dan meningkatkan generalisasi model terhadap variasi data yang mungkin ditemui."
   ]
  },
  {
   "cell_type": "markdown",
   "metadata": {},
   "source": [
    "### Preprocessing"
   ]
  },
  {
   "cell_type": "markdown",
   "metadata": {},
   "source": [
    "Dari setiap percobaan yang telah kalian lakukan, jelaskan bagaimana cara kalian menemukan preprocessing yang paling tepat. Jelaskan alasan kalian menggunakan teknik tersebut dan berikan alasan mengapa preprocessing diperlukan.\n",
    ">Sebelum fitur diekstraksi dari suatu gambar, beberapa teknik pra-pemrosesan dilakukan untuk mempersiapkan data gambar agar  mudah diproses.\n",
    ">Berikut langkah preprocessing yang dilakukan:\n",
    "\n",
    ">Konversi ke grayscale: Gambar diubah menjadi grayscale (skala keabuan) untuk menghilangkan informasi warna yang tidak relevan dengan masalah klasifikasi jari tangan.\n",
    "\n",
    ">Normalisasi: Nilai piksel gambar dinormalisasi ke dalam rentang 0-1 agar tidak terlalu bervariasi dan mempermudah pemrosesan selanjutnya.\n",
    "\n",
    ">Deteksi tepi (Canny edge detection): Deteksi tepi dilakukan untuk mengekstraksi informasi tepi dan bentuk objek dalam gambar, yang merupakan fitur penting untuk membedakan jari tangan.\n",
    "\n",
    ">Thresholding (metode Otsu): Metode Otsu digunakan untuk melakukan binerisasi gambar, yaitu mengubah setiap piksel menjadi hitam atau putih berdasarkan nilai ambang batas tertentu. Ini membantu mengekstraksi bentuk objek yang lebih jelas.\n",
    "\n",
    ">Filtering (Gaussian filtering): Filter Gaussian digunakan untuk menghilangkan noise dan menghaluskan gambar, sehingga fitur-fitur penting dalam gambar lebih mudah dikenali.\n",
    "\n",
    ">Langkah-langkah preprocessing ini penting dilakukan karena dapat meningkatkan kualitas gambar dan mempermudah ekstraksi fitur yang relevan untuk klasifikasi."
   ]
  },
  {
   "cell_type": "markdown",
   "metadata": {},
   "source": [
    "## Feature Selection"
   ]
  },
  {
   "cell_type": "markdown",
   "metadata": {},
   "source": [
    "Jelaskan bagaimana kalian menemukan fitur yang paling tepat untuk digunakan. Jelaskan alasan kalian menggunakan fitur tersebut dan berikan alasan mengapa fitur tersebut diperlukan.\n",
    ">Feature selection adalah proses memilih subset fitur yang paling relevan dan informatif dari keseluruhan fitur yang tersedia. Hal ini penting dilakukan untuk menghindari overfitting, meningkatkan efisiensi komputasi, dan membuang fitur yang tidak relevan atau redundan.\n",
    "Dalam proyek ini, fitur yang diekstraksi adalah fitur tekstur yang diperoleh dari metode Gray-Level Co-occurrence Matrix (GLCM). GLCM adalah metode statistik yang menganalisis pola spasial piksel dalam gambar dengan menghitung frekuensi kombinasi nilai intensitas piksel yang berdekatan pada berbagai arah orientasi. Dari GLCM, beberapa fitur tekstur dapat diekstraksi, seperti energy, homogenety, contrast, dissimiliarity, angular second moment (ASM), dan correlation.\n",
    "\n",
    ">Dalam proyek ini, fitur-fitur tersebut diekstraksi pada 4 sudut orientasi yang berbeda (0, 45, 90, dan 135 derajat) untuk menangkap informasi tekstur dari berbagai arah. Sehingga, total ada 28 fitur yang diekstraksi (7 fitur x 4 orientasi).\n",
    "\n",
    ">Setelah fitur diekstraksi, dilakukan dua tahap seleksi fitur:\n",
    "\n",
    ">Menghapus fitur yang memiliki korelasi tinggi (> 0.9)\n",
    "Korelasi antar fitur dihitung menggunakan matriks korelasi. Fitur yang memiliki korelasi sangat tinggi (> 0.9) dengan fitur lain dianggap redundan dan dihapus. Hal ini dilakukan untuk menghindari multikolinearitas dan memperbaiki kinerja model.\n",
    "\n",
    ">Principal Component Analysis (PCA)\n",
    "PCA digunakan untuk mereduksi dimensi fitur dengan menjaga sebagian besar varians data. Dalam proyek ini, PCA diatur untuk menjaga 95% varians data. Dengan demikian, dimensi fitur dapat diturunkan secara signifikan, namun informasi penting dalam data tetap dipertahankan.\n",
    "\n",
    ">Pemilihan fitur tekstur dilakukan karena fitur ini dianggap relevan untuk membedakan pola dan tekstur gambar jari tangan. Seleksi fitur diperlukan untuk menghindari overfitting, meningkatkan efisiensi komputasi, dan membuang fitur yang tidak relevan atau redundan."
   ]
  },
  {
   "cell_type": "markdown",
   "metadata": {},
   "source": [
    "### Modeling"
   ]
  },
  {
   "cell_type": "markdown",
   "metadata": {},
   "source": [
    "Jelaskan bagaimana kalian melakukan hyperparameter tuning pada model tersebut.\n",
    ">Dalam proyek tidak ada proses hyperparameter tuning yang dilakukan secara eksplisit pada model. Model yang digunakan adalah K-Nearest Neighbors (KNN) dengan nilai k=5, Support Vector Machine (SVM) dengan kernel linear, dan Random Forest dengan jumlah estimator 100.\n",
    "\n",
    ">KNN adalah algoritma klasifikasi yang sederhana dan populer. Nilai k=5 dipilih sebagai nilai default yang umum digunakan, namun sebenarnya nilai k ini bisa dioptimalkan melalui pencarian grid atau cross-validation.\n",
    "\n",
    ">SVM adalah algoritma klasifikasi yang powerful dan sering digunakan untuk masalah klasifikasi gambar. Kernel linear dipilih karena data yang digunakan sudah dalam bentuk fitur yang baik setelah ekstraksi fitur dan seleksi fitur.\n",
    "\n",
    ">Random Forest adalah algoritma ensemble learning yang menggabungkan banyak decision tree. Jumlah estimator 100 dipilih sebagai nilai default yang cukup besar untuk menghasilkan performa yang baik, namun bisa dioptimalkan lebih lanjut."
   ]
  },
  {
   "cell_type": "markdown",
   "metadata": {},
   "source": [
    "### Evaluation"
   ]
  },
  {
   "cell_type": "markdown",
   "metadata": {},
   "source": [
    "Jelaskan bagaimana peningkatan performa model dari metrics yang kalian gunakan pada berbagai percobaan yang telah kalian lakukan.\n",
    ">Evaluasi fitur secara tidak langsung dapat dilihat dari hasil akhir performa model klasifikasi yang digunakan. Dalam project, ada tiga model klasifikasi yang digunakan, yaitu K-Nearest Neighbors (KNN), Support Vector Machine (SVM), dan Random Forest. Performa dari ketiga model ini dievaluasi menggunakan metrik akurasi, presisi, recall, dan f1-score.\n",
    "\n",
    ">Hasil evaluasi menunjukkan bahwa model SVM dan Random Forest memiliki performa yang sama dan lebih baik daripada KNN pada semua metrik yang digunakan. Kedua model ini mencapai akurasi tertinggi yaitu 0.9861 atau sekitar 98.61%. Ini menunjukkan bahwa subset fitur yang digunakan setelah melalui tahap seleksi fitur (menghapus fitur dengan korelasi tinggi dan melakukan PCA) sudah cukup baik dalam merepresentasikan informasi penting dalam data untuk melakukan klasifikasi jari tangan.\n",
    "\n",
    ">Selain itu, dalam proses seleksi fitur, fitur yang dipilih adalah fitur tekstur yang diekstraksi dari metode Gray-Level Co-occurrence Matrix (GLCM). Pemilihan fitur ini didasarkan pada asumsi bahwa fitur tekstur relevan untuk membedakan pola dan tekstur gambar jari tangan. Hasil performa model yang baik mengindikasikan bahwa asumsi ini cukup valid dan fitur tekstur memang merupakan fitur yang informatif untuk masalah klasifikasi jari tangan."
   ]
  }
 ],
 "metadata": {
  "language_info": {
   "name": "python"
  }
 },
 "nbformat": 4,
 "nbformat_minor": 2
}
